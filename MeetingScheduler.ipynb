{
 "cells": [
  {
   "cell_type": "markdown",
   "id": "89316efa",
   "metadata": {
    "id": "89316efa"
   },
   "source": [
    "# MeetingScheduler: Find Optimal Times to Meet\n",
    "\n",
    "Change TZ_CONFIG according to who you want to meet with.\n",
    "\n",
    "Keys: Timezones of participants\n",
    "\n",
    "Values: number of people per timezone"
   ]
  },
  {
   "cell_type": "code",
   "execution_count": 1,
   "id": "6b603aef",
   "metadata": {
    "id": "6b603aef"
   },
   "outputs": [],
   "source": [
    "# Change according to who you want to meet with\n",
    "# Timezone: number of people\n",
    "TZ_CONFIG = {\n",
    "    \"Manila\": 2,\n",
    "    \"Oslo\": 1,\n",
    "    \"Kolkata\": 1,\n",
    "    \"New_York\": 1,\n",
    "    \"Los_Angeles\": 3,\n",
    "    \"Brisbane\": 1,\n",
    "    \"London\": 1\n",
    "}"
   ]
  },
  {
   "cell_type": "markdown",
   "id": "LAXjo5uxG__X",
   "metadata": {
    "id": "LAXjo5uxG__X"
   },
   "source": [
    "## Installation\n",
    "\n",
    "Just run the cells below"
   ]
  },
  {
   "cell_type": "code",
   "execution_count": 2,
   "id": "1a1af1ae",
   "metadata": {
    "colab": {
     "base_uri": "https://localhost:8080/"
    },
    "id": "1a1af1ae",
    "outputId": "a5dcc53e-8ed8-455a-9814-c8f48f93b509"
   },
   "outputs": [
    {
     "name": "stdout",
     "output_type": "stream",
     "text": [
      "Requirement already satisfied: pendulum in /usr/local/lib/python3.7/dist-packages (2.1.2)\n",
      "Requirement already satisfied: python-dateutil<3.0,>=2.6 in /usr/local/lib/python3.7/dist-packages (from pendulum) (2.8.2)\n",
      "Requirement already satisfied: pytzdata>=2020.1 in /usr/local/lib/python3.7/dist-packages (from pendulum) (2020.1)\n",
      "Requirement already satisfied: six>=1.5 in /usr/local/lib/python3.7/dist-packages (from python-dateutil<3.0,>=2.6->pendulum) (1.15.0)\n"
     ]
    }
   ],
   "source": [
    "!pip install pendulum"
   ]
  },
  {
   "cell_type": "code",
   "execution_count": 3,
   "id": "cd6f7b0a",
   "metadata": {
    "id": "cd6f7b0a"
   },
   "outputs": [],
   "source": [
    "import pytz\n",
    "import pendulum\n",
    "import pandas as pd"
   ]
  },
  {
   "cell_type": "code",
   "execution_count": 4,
   "id": "43f9c84e",
   "metadata": {
    "id": "43f9c84e"
   },
   "outputs": [],
   "source": [
    "def find_tz(tz):\n",
    "    try:\n",
    "        return [s for s in list(pytz.all_timezones) if tz in s][0]\n",
    "    except IndexError:\n",
    "        print(f\"Cant find {tz}\")\n",
    "\n",
    "def get_time_score(dt):\n",
    "    hour = dt.hour\n",
    "    dow = dt.day_of_week\n",
    "    # bad days: weekends\n",
    "    if dow in [pendulum.SATURDAY, pendulum.SUNDAY]:\n",
    "        return -3\n",
    "    # bad times, weight very low\n",
    "    if hour < 6:\n",
    "        return -2\n",
    "    if hour > 22:\n",
    "        return -2\n",
    "    # regular 9 to 5 schedule is optimal\n",
    "    if 9 < hour < 17:\n",
    "        return 1\n",
    "    else:\n",
    "        return 0.5"
   ]
  },
  {
   "cell_type": "code",
   "execution_count": 5,
   "id": "6db731f5",
   "metadata": {
    "id": "6db731f5"
   },
   "outputs": [],
   "source": [
    "TIMEZONES = []\n",
    "for k, v in TZ_CONFIG.items():\n",
    "    for _ in range(v):\n",
    "        TIMEZONES.append(k)\n",
    "PROPER_TZS = [find_tz(tz) for tz in TIMEZONES]"
   ]
  },
  {
   "cell_type": "code",
   "execution_count": 6,
   "id": "feaa91a9",
   "metadata": {
    "colab": {
     "base_uri": "https://localhost:8080/"
    },
    "id": "feaa91a9",
    "outputId": "6608749f-2553-4cee-af40-b49fbd8df7a7"
   },
   "outputs": [
    {
     "data": {
      "text/plain": [
       "['Asia/Manila',\n",
       " 'Asia/Manila',\n",
       " 'Europe/Oslo',\n",
       " 'Asia/Kolkata',\n",
       " 'America/New_York',\n",
       " 'America/Los_Angeles',\n",
       " 'America/Los_Angeles',\n",
       " 'America/Los_Angeles',\n",
       " 'Australia/Brisbane',\n",
       " 'Europe/London']"
      ]
     },
     "execution_count": 6,
     "metadata": {},
     "output_type": "execute_result"
    }
   ],
   "source": [
    "PROPER_TZS"
   ]
  },
  {
   "cell_type": "code",
   "execution_count": 7,
   "id": "13713dd1",
   "metadata": {
    "id": "13713dd1"
   },
   "outputs": [],
   "source": [
    "def find_time(date_str=\"\", tz=\"Los_Angeles\"):\n",
    "    \"\"\"Finds best time for people in different timezones to meet.\n",
    "    \n",
    "        Args:\n",
    "            date_str = MM-DD\n",
    "            tz = which timezones to display the time in\n",
    "    \"\"\"\n",
    "    _tz = find_tz(tz)\n",
    "    month, day = date_str.split(\"-\")\n",
    "    year = pendulum.now().year\n",
    "    base_tz = pendulum.datetime(year, int(month), int(day), 0, 0)\n",
    "    df = []\n",
    "    index_time = []\n",
    "    for _ in range(24):        \n",
    "        out = {}\n",
    "        index_time.append(pendulum.from_timestamp(base_tz.timestamp(), _tz).to_datetime_string())\n",
    "        for i, tz in enumerate(PROPER_TZS):\n",
    "            tz_dt = pendulum.from_timestamp(base_tz.timestamp(), tz)\n",
    "            out[tz + str(i)] = get_time_score(tz_dt)\n",
    "        df.append(out)\n",
    "        base_tz = base_tz.add(hours=1)\n",
    "    df = pd.DataFrame(df)\n",
    "    df.index = index_time\n",
    "    return df.sum(axis=1).sort_values(ascending=False)"
   ]
  },
  {
   "cell_type": "markdown",
   "id": "kde1SCBSGv7N",
   "metadata": {
    "id": "kde1SCBSGv7N"
   },
   "source": [
    "## Find times to meet!"
   ]
  },
  {
   "cell_type": "code",
   "execution_count": 8,
   "id": "7fab9c3e",
   "metadata": {
    "colab": {
     "base_uri": "https://localhost:8080/"
    },
    "id": "7fab9c3e",
    "outputId": "36ec148a-6bd6-42c6-ce58-11d8b606accb"
   },
   "outputs": [
    {
     "data": {
      "text/plain": [
       "2022-05-23 22:00:00    4.5\n",
       "2022-05-24 07:00:00    4.0\n",
       "2022-05-24 06:00:00    3.5\n",
       "2022-05-23 19:00:00    1.5\n",
       "2022-05-23 21:00:00    1.5\n",
       "2022-05-23 18:00:00    0.5\n",
       "2022-05-24 13:00:00   -0.5\n",
       "2022-05-24 10:00:00   -0.5\n",
       "2022-05-24 16:00:00   -1.0\n",
       "2022-05-23 20:00:00   -1.0\n",
       "2022-05-24 15:00:00   -1.0\n",
       "2022-05-24 03:00:00   -1.0\n",
       "2022-05-24 04:00:00   -1.0\n",
       "2022-05-24 08:00:00   -1.5\n",
       "2022-05-24 05:00:00   -1.5\n",
       "2022-05-24 09:00:00   -2.0\n",
       "2022-05-23 17:00:00   -2.0\n",
       "2022-05-24 01:00:00   -3.0\n",
       "2022-05-24 11:00:00   -3.0\n",
       "2022-05-24 12:00:00   -3.0\n",
       "2022-05-23 23:00:00   -3.0\n",
       "2022-05-24 02:00:00   -3.5\n",
       "2022-05-24 00:00:00   -3.5\n",
       "2022-05-24 14:00:00   -3.5\n",
       "dtype: float64"
      ]
     },
     "execution_count": 8,
     "metadata": {},
     "output_type": "execute_result"
    }
   ],
   "source": [
    "# args: MM-DD, timezone to display (default: PST)\n",
    "find_time(\"05-24\")"
   ]
  },
  {
   "cell_type": "code",
   "execution_count": 9,
   "id": "9ae7a104",
   "metadata": {
    "colab": {
     "base_uri": "https://localhost:8080/"
    },
    "id": "9ae7a104",
    "outputId": "4543688a-883f-465b-bbde-4859b572a164"
   },
   "outputs": [
    {
     "data": {
      "text/plain": [
       "2022-05-24 13:00:00    4.5\n",
       "2022-05-24 22:00:00    4.0\n",
       "2022-05-24 21:00:00    3.5\n",
       "2022-05-24 10:00:00    1.5\n",
       "2022-05-24 12:00:00    1.5\n",
       "2022-05-24 09:00:00    0.5\n",
       "2022-05-25 04:00:00   -0.5\n",
       "2022-05-25 01:00:00   -0.5\n",
       "2022-05-25 07:00:00   -1.0\n",
       "2022-05-24 11:00:00   -1.0\n",
       "2022-05-25 06:00:00   -1.0\n",
       "2022-05-24 18:00:00   -1.0\n",
       "2022-05-24 19:00:00   -1.0\n",
       "2022-05-24 23:00:00   -1.5\n",
       "2022-05-24 20:00:00   -1.5\n",
       "2022-05-25 00:00:00   -2.0\n",
       "2022-05-24 08:00:00   -2.0\n",
       "2022-05-24 16:00:00   -3.0\n",
       "2022-05-25 02:00:00   -3.0\n",
       "2022-05-25 03:00:00   -3.0\n",
       "2022-05-24 14:00:00   -3.0\n",
       "2022-05-24 17:00:00   -3.5\n",
       "2022-05-24 15:00:00   -3.5\n",
       "2022-05-25 05:00:00   -3.5\n",
       "dtype: float64"
      ]
     },
     "execution_count": 9,
     "metadata": {},
     "output_type": "execute_result"
    }
   ],
   "source": [
    "find_time(\"05-24\", tz=\"Manila\")"
   ]
  },
  {
   "cell_type": "code",
   "execution_count": 9,
   "id": "9c5d7a5f",
   "metadata": {
    "id": "9c5d7a5f"
   },
   "outputs": [],
   "source": []
  }
 ],
 "metadata": {
  "colab": {
   "collapsed_sections": [
    "LAXjo5uxG__X"
   ],
   "name": "AutoScheduler.ipynb",
   "provenance": []
  },
  "kernelspec": {
   "display_name": "Python 3 (ipykernel)",
   "language": "python",
   "name": "python3"
  },
  "language_info": {
   "codemirror_mode": {
    "name": "ipython",
    "version": 3
   },
   "file_extension": ".py",
   "mimetype": "text/x-python",
   "name": "python",
   "nbconvert_exporter": "python",
   "pygments_lexer": "ipython3",
   "version": "3.9.7"
  }
 },
 "nbformat": 4,
 "nbformat_minor": 5
}
